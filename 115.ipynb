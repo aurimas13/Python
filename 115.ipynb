{
  "nbformat": 4,
  "nbformat_minor": 0,
  "metadata": {
    "kernelspec": {
      "display_name": "Python 3",
      "language": "python",
      "name": "python3"
    },
    "language_info": {
      "codemirror_mode": {
        "name": "ipython",
        "version": 3
      },
      "file_extension": ".py",
      "mimetype": "text/x-python",
      "name": "python",
      "nbconvert_exporter": "python",
      "pygments_lexer": "ipython3",
      "version": "3.7.7"
    },
    "colab": {
      "name": "115.ipynb",
      "provenance": [],
      "toc_visible": true
    }
  },
  "cells": [
    {
      "cell_type": "markdown",
      "metadata": {
        "id": "jEuQqUGbr8I3"
      },
      "source": [
        "# Module 1: Data Wrangling with Python\n",
        "## Sprint 1: Python Mastery\n",
        "## Part 5: OOP based Calculator\n"
      ]
    },
    {
      "cell_type": "markdown",
      "metadata": {
        "id": "YJjZSq8lr8I6"
      },
      "source": [
        "## About this Part\n",
        "\n",
        "Congrats!\n",
        "You completed almost all assignments and tasks of this Sprint.\n",
        "You did a great job.\n",
        "In this Part, you will need to prove all the skills that you learned.\n",
        "As the final assignment of this Sprint, you will have to create your own Python package.\n",
        "You will have to apply all what you have learned about OOP and \"Clean Code\" concepts.\n",
        "\n",
        "## Objectives for this Part\n",
        "\n",
        "- Practice writing clean OOP based Python code and testing it.\n",
        "- Practice creation your own Python package.\n",
        "- Understand and apply required software license for your package.\n",
        "- Practice dealing with Python environments.\n",
        "- Practice creating and working in a Docker container.\n"
      ]
    },
    {
      "cell_type": "markdown",
      "metadata": {
        "id": "W14yr1Xhr8I6"
      },
      "source": [
        "---"
      ]
    },
    {
      "cell_type": "markdown",
      "metadata": {
        "id": "1kZw_mFQr8I6"
      },
      "source": [
        "## The calculator\n",
        "\n",
        "You will need to create a Python module and later transform it into a package.\n",
        "This module will be a calculator.\n",
        "What you should do at first is initialize new Python package structure and create a new file that will be used as a module."
      ]
    },
    {
      "cell_type": "markdown",
      "metadata": {
        "id": "eKNqTBCqr8I7"
      },
      "source": [
        "## Writing tests and documentation\n",
        "\n",
        "You should also write tests that ensure that the basic functionality of the class is covered.\n",
        "Make sure that math operations returns expected results. Document your calculator class using docstrings.\n",
        "Add explanation of the package to README file.\n",
        "Try to be as verbose as possible: include instruction on how to install the package, how to use specific methods.  "
      ]
    },
    {
      "cell_type": "markdown",
      "metadata": {
        "id": "JWC77-Pjr8I7"
      },
      "source": [
        "---"
      ]
    },
    {
      "cell_type": "code",
      "metadata": {
        "id": "zX6oBV26sCdF",
        "outputId": "3748c93d-339b-4cfc-db33-2bb963097bce",
        "colab": {
          "base_uri": "https://localhost:8080/"
        }
      },
      "source": [
        "pip install git+git://github.com/aurimas13/calculator  "
      ],
      "execution_count": 36,
      "outputs": [
        {
          "output_type": "stream",
          "text": [
            "Collecting git+git://github.com/aurimas13/calculator\n",
            "  Cloning git://github.com/aurimas13/calculator to /tmp/pip-req-build-fauttqby\n",
            "  Running command git clone -q git://github.com/aurimas13/calculator /tmp/pip-req-build-fauttqby\n",
            "Requirement already satisfied (use --upgrade to upgrade): Calculator==0.0.1 from git+git://github.com/aurimas13/calculator in /usr/local/lib/python3.7/dist-packages\n",
            "Building wheels for collected packages: Calculator\n",
            "  Building wheel for Calculator (setup.py) ... \u001b[?25l\u001b[?25hdone\n",
            "  Created wheel for Calculator: filename=Calculator-0.0.1-cp37-none-any.whl size=4580 sha256=85245ab22956a38af7e803c7b1dd94db20a297a198041b72e41ae866b991d4d2\n",
            "  Stored in directory: /tmp/pip-ephem-wheel-cache-94503a4v/wheels/fa/6c/45/06ce6e1e8f570369953b4779884a25c08553ce32fa277c747c\n",
            "Successfully built Calculator\n"
          ],
          "name": "stdout"
        }
      ]
    },
    {
      "cell_type": "code",
      "metadata": {
        "id": "KfNKtMC4sjK-"
      },
      "source": [
        "from calculator.calculator import *\n"
      ],
      "execution_count": 37,
      "outputs": []
    },
    {
      "cell_type": "code",
      "metadata": {
        "id": "p6FtiD4_spGd",
        "outputId": "01b5c38f-580c-4f18-d9c5-ae1a6a01b644",
        "colab": {
          "base_uri": "https://localhost:8080/"
        }
      },
      "source": [
        "calculator.reset()"
      ],
      "execution_count": 43,
      "outputs": [
        {
          "output_type": "stream",
          "text": [
            "0\n"
          ],
          "name": "stdout"
        }
      ]
    },
    {
      "cell_type": "code",
      "metadata": {
        "id": "ZMD7qXtZstwa",
        "outputId": "ff11d0d0-e994-4722-9067-8a32f71cf971",
        "colab": {
          "base_uri": "https://localhost:8080/"
        }
      },
      "source": [
        "calculator.add(4)"
      ],
      "execution_count": 44,
      "outputs": [
        {
          "output_type": "execute_result",
          "data": {
            "text/plain": [
              "4"
            ]
          },
          "metadata": {
            "tags": []
          },
          "execution_count": 44
        }
      ]
    },
    {
      "cell_type": "code",
      "metadata": {
        "id": "NkvKl-q5syyj",
        "outputId": "6dca137a-5e67-4fc3-b91d-5ec73963f2d2",
        "colab": {
          "base_uri": "https://localhost:8080/"
        }
      },
      "source": [
        "calculator.add(14)"
      ],
      "execution_count": 45,
      "outputs": [
        {
          "output_type": "execute_result",
          "data": {
            "text/plain": [
              "18"
            ]
          },
          "metadata": {
            "tags": []
          },
          "execution_count": 45
        }
      ]
    },
    {
      "cell_type": "code",
      "metadata": {
        "id": "DDI-WXNGs4ps",
        "outputId": "4df5518f-01cc-4007-8c8a-930137c69c20",
        "colab": {
          "base_uri": "https://localhost:8080/"
        }
      },
      "source": [
        "calculator.divide(3)"
      ],
      "execution_count": 46,
      "outputs": [
        {
          "output_type": "execute_result",
          "data": {
            "text/plain": [
              "6.0"
            ]
          },
          "metadata": {
            "tags": []
          },
          "execution_count": 46
        }
      ]
    },
    {
      "cell_type": "code",
      "metadata": {
        "id": "kaysgZsDs9R7",
        "outputId": "735415a0-6f4a-4531-ba11-88debba26877",
        "colab": {
          "base_uri": "https://localhost:8080/"
        }
      },
      "source": [
        "calculator.multiply(11)"
      ],
      "execution_count": 47,
      "outputs": [
        {
          "output_type": "execute_result",
          "data": {
            "text/plain": [
              "66.0"
            ]
          },
          "metadata": {
            "tags": []
          },
          "execution_count": 47
        }
      ]
    },
    {
      "cell_type": "code",
      "metadata": {
        "id": "Zh5PUkS6tHHZ",
        "outputId": "bfdc2ca8-bdcd-49a9-a568-81ac64c5ba28",
        "colab": {
          "base_uri": "https://localhost:8080/"
        }
      },
      "source": [
        "calculator.root(225)\n"
      ],
      "execution_count": 48,
      "outputs": [
        {
          "output_type": "execute_result",
          "data": {
            "text/plain": [
              "15.0"
            ]
          },
          "metadata": {
            "tags": []
          },
          "execution_count": 48
        }
      ]
    },
    {
      "cell_type": "code",
      "metadata": {
        "id": "vgjaw4eBtMFW",
        "outputId": "d42f4849-afc4-4131-8a77-6b619890ef52",
        "colab": {
          "base_uri": "https://localhost:8080/"
        }
      },
      "source": [
        "calculator.allocate(81)\n",
        "calculator.divide(9)"
      ],
      "execution_count": 49,
      "outputs": [
        {
          "output_type": "execute_result",
          "data": {
            "text/plain": [
              "9.0"
            ]
          },
          "metadata": {
            "tags": []
          },
          "execution_count": 49
        }
      ]
    },
    {
      "cell_type": "markdown",
      "metadata": {
        "id": "Ro-VcZA0r8I7"
      },
      "source": [
        "## Requirements\n",
        "\n",
        "The main package file should contain a class `Calculator` that should be able to perform these actions:  \n",
        "\n",
        "- Addition / Subtraction.\n",
        "- Multiplication / Division.\n",
        "- Take (n) root of number.\n",
        "- Reset memory (**Calculator must have its own memory, meaning it should manipulate its starting number `0` until it is reset.**).\n",
        "\n",
        "This means that for example `calculator` should perform actions with a value inside its memory (for this example value inside the calculator's memory is `0`): `calculator.add(2)` results in `2`."
      ]
    },
    {
      "cell_type": "markdown",
      "metadata": {
        "id": "SL7r6PIfr8I8"
      },
      "source": [
        "Present your newly created Python package:\n",
        "\n",
        "* Make a short introduction to the repository of the package.\n",
        "* Install the package into the Google Colab's env using `pip`.\n",
        "* Showcase functionality of the created package.\n",
        "* If bonus challenge is completed - explain how the `Dockerfile` is structured and what is its functionality."
      ]
    },
    {
      "cell_type": "markdown",
      "metadata": {
        "id": "9afQIxnBr8I8"
      },
      "source": [
        "## Evaluation criteria\n",
        "\n",
        "1. Correct Python Package structure is initialized.\n",
        "2. Calculator module is created.\n",
        "3. Calculator class performs required actions.\n",
        "4. Tests are written.\n",
        "5. Code is written with PEP8 standards in mind.\n",
        "6. Code is well-documented.\n",
        "7. Project has informative README file.\n",
        "8. Package is installable through `pip`."
      ]
    },
    {
      "cell_type": "markdown",
      "metadata": {
        "id": "eDeRQZFBr8I8"
      },
      "source": [
        "## Bonus challenge\n",
        "\n",
        "Add Dockerfile to the repository that is able to run your module.\n",
        "Python `3.8` environment is initialized and the package is installed when creating Docker container from the image."
      ]
    },
    {
      "cell_type": "markdown",
      "metadata": {
        "id": "jo4lNY6Hr8I9"
      },
      "source": [
        "## Sample correction questions\n",
        "\n",
        "During a correction, you may get asked questions that test your understanding of covered topics.\n",
        "\n",
        "- What is Object-Oriented Programming? Select and explain two examples where using OOP concepts can improve quality and usability of code.\n",
        "- What is \"Clean Code\"? Select four main key concepts and explain them using real world examples.\n",
        "- Why do we need to document code? How can you do it? What should be provided inside the documentation?\n",
        "- Explain containerization. Why would you want to use one? What are the main differences between virtualization and containerization?"
      ]
    }
  ]
}